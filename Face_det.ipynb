{
 "cells": [
  {
   "cell_type": "code",
   "execution_count": null,
   "metadata": {},
   "outputs": [],
   "source": [
    "import tensorflow as tf\n",
    "from tensorflow.python.keras.applications import vgg16\n",
    "from tensorflow.python.keras.applications.vgg16 import preprocess_input\n",
    "from tensorflow.keras import layers\n",
    "from tensorflow.keras.optimizers import RMSprop\n",
    "import os"
   ]
  },
  {
   "cell_type": "code",
   "execution_count": null,
   "metadata": {},
   "outputs": [],
   "source": [
    "train_dir = 'face2/train'\n",
    "validation_dir = 'face2/validation'\n",
    "test_dir='face2/test'\n",
    "\n",
    "\n",
    "train_jaydev_dir = os.path.join(train_dir, 'jaydev')\n",
    "train_rohan_dir = os.path.join(train_dir, 'rohan')\n",
    "\n",
    "\n",
    "validation_jaydev_dir = os.path.join(validation_dir, 'jaydev')\n",
    "validation_rohan_dir = os.path.join(validation_dir, 'rohan')\n",
    "\n",
    "test_jaydev_dir = os.path.join(test_dir, 'jaydev')\n",
    "test_rohan_dir = os.path.join(test_dir, 'rohan')\n",
    "\n",
    "train_jaydev_dir_fnames = os.listdir( train_jaydev_dir)\n",
    "\n",
    "\n",
    "print(train_jaydev_dir_fnames[:10])"
   ]
  },
  {
   "cell_type": "code",
   "execution_count": null,
   "metadata": {},
   "outputs": [],
   "source": [
    "model = tf.keras.models.Sequential([\n",
    "    # input shape is the desired size of the image 150x150 with 3 bytes color\n",
    "    #  first convolution\n",
    "    tf.keras.layers.Conv2D(16, (3,3), activation='relu', input_shape=(150, 150, 3)),\n",
    "    tf.keras.layers.MaxPooling2D(2, 2),\n",
    "    #  second convolution\n",
    "    tf.keras.layers.Conv2D(32, (3,3), activation='relu'),\n",
    "    tf.keras.layers.MaxPooling2D(2,2),\n",
    "    # third convolution\n",
    "    tf.keras.layers.Conv2D(64, (3,3), activation='relu'),\n",
    "    tf.keras.layers.MaxPooling2D(2,2),\n",
    "    #  fourth convolution\n",
    "    tf.keras.layers.Conv2D(64, (3,3), activation='relu'),\n",
    "    tf.keras.layers.MaxPooling2D(2,2),\n",
    "    #  fifth convolution\n",
    "    tf.keras.layers.Conv2D(64, (3,3), activation='relu'),\n",
    "    tf.keras.layers.MaxPooling2D(2,2),\n",
    "    # Flatten \n",
    "    tf.keras.layers.Flatten(),\n",
    "    # 512 neuron hidden layer\n",
    "    tf.keras.layers.Dense(512, activation='relu'),\n",
    "    # Only 1 output neuron. It will contain a value from 0-1 where 0 for 1 class ('jaydev') and 1 for the other ('rohan')\n",
    "    tf.keras.layers.Dense(1, activation='sigmoid')\n",
    "])"
   ]
  },
  {
   "cell_type": "code",
   "execution_count": null,
   "metadata": {},
   "outputs": [],
   "source": [
    "from tensorflow.keras.optimizers import RMSprop\n",
    "\n",
    "model.compile(optimizer='Adam',\n",
    "              loss='binary_crossentropy',\n",
    "              metrics = ['accuracy'])\n",
    "\n"
   ]
  },
  {
   "cell_type": "code",
   "execution_count": null,
   "metadata": {},
   "outputs": [],
   "source": [
    "from tensorflow.keras.preprocessing.image import ImageDataGenerator\n",
    "\n",
    "# All images will be rescaled by 1./255.\n",
    "train_datagen = ImageDataGenerator( rescale = 1.0/255. )\n",
    "validation_datagen  = ImageDataGenerator( rescale = 1.0/255. )\n",
    "\n",
    "\n",
    "train_generator = train_datagen.flow_from_directory(train_dir,\n",
    "                                                    #batch_size=20,\n",
    "                                                    class_mode='binary',\n",
    "                                                    target_size=(150, 150))     \n",
    "\n",
    "validation_generator =  validation_datagen.flow_from_directory(validation_dir,\n",
    "                                                         #batch_size=20,\n",
    "                                                         class_mode  = 'binary',\n",
    "                                                         target_size = (150, 150))"
   ]
  },
  {
   "cell_type": "code",
   "execution_count": null,
   "metadata": {},
   "outputs": [],
   "source": [
    "history = model.fit(train_generator,\n",
    "                              validation_data=validation_generator,\n",
    "                              \n",
    "                              epochs=10,\n",
    "                             \n",
    "                              verbose=1)"
   ]
  },
  {
   "cell_type": "code",
   "execution_count": null,
   "metadata": {},
   "outputs": [],
   "source": [
    "import numpy as np\n",
    "from keras.preprocessing import image\n",
    "\n",
    "import cv2\n",
    "import numpy as np\n",
    "\n",
    "face_cascade = cv2.CascadeClassifier('haarcascade_frontalface_default.xml')\n",
    "\n",
    "camera = cv2.VideoCapture(0)\n",
    "\n",
    "while(True):\n",
    "    return_value, image = camera.read()\n",
    "    \n",
    "    gray = cv2.cvtColor(image, cv2.COLOR_BGR2GRAY)\n",
    "    faces = face_cascade.detectMultiScale(gray, 1.3, 5)\n",
    "    for (x,y,w,h) in faces:\n",
    "        face=image[y:y+h,x:x+w]\n",
    "        face=cv2.resize(face,(150,150))\n",
    "        #cv2.imwrite('try/try'+str(i)+'.jpg', face)# here specify ur folder\n",
    "        image=cv2.rectangle(image, (x,y), (x+w,y+h), (255,0,0), 3)\n",
    "        \n",
    "    \n",
    "    #path='try/try'+str(i)+'.jpg' \n",
    "    #img=cv2.imread(path)\n",
    "  \n",
    "        z=np.array(face)\n",
    "        z=np.expand_dims(z, axis=0)\n",
    "        images = np.vstack([z])\n",
    "\n",
    "        classes = model.predict(images, batch_size=10)\n",
    "\n",
    "        print(classes[0])\n",
    "\n",
    "        if classes[0]>0:\n",
    "            image=cv2.putText(image,'rohan',(x+60,y-10),cv2.FONT_HERSHEY_COMPLEX,0.5,(0,0,255),2)\n",
    "            print(\" is a rohan\")\n",
    "            \n",
    "        else:\n",
    "            image=cv2.putText(image,'jaydev',(x+60,y-10),cv2.FONT_HERSHEY_COMPLEX,0.5,(0,0,255),2)\n",
    "            print(\" is a jaydev\")\n",
    "        \n",
    "    cv2.imshow('photu',image)\n",
    "    if cv2.waitKey(1) & 0xFF == ord('q'): \n",
    "        break\n",
    "\n",
    "del(camera)\n",
    "cv2.waitKey(0)\n",
    "cv2.destroyAllWindows()"
   ]
  }
 ],
 "metadata": {
  "kernelspec": {
   "display_name": "NB_1145",
   "language": "python",
   "name": "nb_1145"
  },
  "language_info": {
   "codemirror_mode": {
    "name": "ipython",
    "version": 3
   },
   "file_extension": ".py",
   "mimetype": "text/x-python",
   "name": "python",
   "nbconvert_exporter": "python",
   "pygments_lexer": "ipython3",
   "version": "3.8.6"
  }
 },
 "nbformat": 4,
 "nbformat_minor": 4
}
